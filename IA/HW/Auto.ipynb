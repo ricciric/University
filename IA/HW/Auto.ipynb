{
 "cells": [
  {
   "cell_type": "markdown",
   "metadata": {},
   "source": [
    "\n",
    "# Codice Remove di una lista doppiamente concatenata"
   ]
  },
  {
   "cell_type": "code",
   "execution_count": null,
   "metadata": {},
   "outputs": [],
   "source": [
    "class Lista_doppia:\n",
    "\n",
    "    def __init__(self):\n",
    "        self.__head = None\n",
    "        self.__tail = None\n",
    "\n",
    "    def remove(data):\n",
    "        if(self.__head == None):\n",
    "            print('Non esiste la lista')\n",
    "        s = self.__head\n",
    "        l = None\n",
    "        while(not(s.data == data)):\n",
    "            l = s\n",
    "            s = s.next\n",
    "        l.next = s.next\n",
    "        s.next.prev = l\n",
    "        s.next = None\n",
    "        s.prev = None\n",
    "        del p\n",
    "        print('Rimosso!')\n",
    "\n",
    "class Node:\n",
    "    data = ''\n",
    "    prev = None\n",
    "    next = None\n",
    "\n",
    "    def __init__(self, data):\n",
    "        self.data = data\n",
    "\n",
    "\n",
    "\n",
    "    \n"
   ]
  },
  {
   "cell_type": "markdown",
   "metadata": {},
   "source": [
    "## Scrivere il codice Python e descrivere il funzionamento dell’algoritmo di Tabu Search per il problema TSP, supponendo\n",
    "### di avere già disponibili le seguenti funzioni:\n",
    "- eval_stato (calcola la lunghezza del percorso)\n",
    "- generazione_successori (genera una lista ordinata di successori di uno stato)\n",
    "- tabu_test (verifica se una mossa non è presente nella tabu list)"
   ]
  },
  {
   "cell_type": "code",
   "execution_count": null,
   "metadata": {},
   "outputs": [],
   "source": []
  }
 ],
 "metadata": {
  "language_info": {
   "name": "python"
  },
  "orig_nbformat": 4
 },
 "nbformat": 4,
 "nbformat_minor": 2
}
