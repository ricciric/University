{
 "cells": [
  {
   "cell_type": "code",
   "execution_count": null,
   "metadata": {},
   "outputs": [
    {
     "ename": "",
     "evalue": "",
     "output_type": "error",
     "traceback": [
      "\u001b[1;31mL'esecuzione di celle con 'Python 3.11.0 64-bit' richiede il pacchetto ipykernel.\n",
      "\u001b[1;31mEseguire il comando seguente per installare 'ipykernel' nell'ambiente Python. \n",
      "\u001b[1;31mComando: 'c:/Users/Riccardo/AppData/Local/Programs/Python/Python311/python.exe -m pip install ipykernel -U --user --force-reinstall'"
     ]
    }
   ],
   "source": [
    "#Inizializzo il dizionario con la mappa degli stati\n",
    "mappa = dict()\n",
    "mappa['Arad'] = [[('Zerind', 75), ('Sibiu', 140), ('Timisoara', 118)]]\n",
    "mappa['Zerind'] = [[('Oradea', 71), ('Arad', 75)]]\n",
    "mappa['Oradea'] = [[('Sibiu', 151), ('Zerind', 71)]]\n",
    "mappa['Sibiu'] = [[('Oradea', 151), ('Arad', 140), ('Faragas', 99), ('Rimnicu Vilcea', 80)]]\n",
    "mappa['Fagaras'] = [[('Bucharest', 211), ('Sibiu', 99)]]\n",
    "mappa['Rimnicu Vilcea'] = [[('Sibiu', 80), ('Pitesti', 97), ('Craiova', 146)]]\n",
    "mappa['Craiova'] = [[('Dobreta', 120), ('Rimnicu Vilcea', 146), ('Pitesti', 59)]]\n",
    "mappa['Dobreta'] = [[('Craiova', 120), ('Mehadia', 75)]]\n",
    "mappa['Mehadia'] = [[('Dobreta', 75), ('Lugoj', 70)]]\n",
    "mappa['Lugoj'] = [[('Timisoara', 111), ('Mehadia', 70)]]\n",
    "mappa['Timisoara'] = [[('Lugoj', 111), ('Arad', 118)]]\n",
    "mappa['Bucharest'] = [[('Giurgiu', 90), ('Fagaras', 211), ('Pitesti', 101), ('Urziceni', 85)]]\n",
    "mappa['Urziceni'] = [[('Bucharest', 85), ('Hirsova', 98), ('Vaslui', 142)]]\n",
    "#Resto della mappa non necessario \n",
    "\n",
    "#Funzione euristica h per la distanza in linea d'aria da bucharest\n",
    "h = dict()\n",
    "h['Arad'] = 366\n",
    "h['Bucharest'] = 0\n",
    "h['Craiova'] = 160\n",
    "h['Dobreta'] = 242\n",
    "h['Fagaras'] = 176\n",
    "h['Giurgiu'] = 77\n",
    "h['Hirsova'] = 151\n",
    "h['Lugoj'] = 244\n",
    "h['Mehadia'] = 241\n",
    "h['Oradea'] = 380\n",
    "h['Pitesti'] = 100\n",
    "h['Rimnicu Vilcea'] = 193\n",
    "h['Sibiu'] = 253\n",
    "h['Timisoara'] = 329\n",
    "h['Urziceni'] = 80\n",
    "h['Vaslui'] = 199\n",
    "h['Zerind'] = 374\n",
    "\n",
    "mappa\n",
    "\n",
    "#Implementazione dell'algoritmo di ricerca Greedy\n",
    "def greedy_BFS(mappa, h):\n",
    "\n"
   ]
  },
  {
   "cell_type": "code",
   "execution_count": null,
   "metadata": {},
   "outputs": [],
   "source": []
  }
 ],
 "metadata": {
  "kernelspec": {
   "display_name": "Python 3.11.0 64-bit",
   "language": "python",
   "name": "python3"
  },
  "language_info": {
   "name": "python",
   "version": "3.11.0"
  },
  "orig_nbformat": 4,
  "vscode": {
   "interpreter": {
    "hash": "a088e8f7dc5632d47cd2c85604f30e2b06635e6c5c65f4df2f2aaaa0ed5a2bc8"
   }
  }
 },
 "nbformat": 4,
 "nbformat_minor": 2
}
