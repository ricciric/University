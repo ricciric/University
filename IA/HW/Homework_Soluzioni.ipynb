{
 "cells": [
  {
   "cell_type": "code",
   "execution_count": 7,
   "metadata": {},
   "outputs": [
    {
     "name": "stdout",
     "output_type": "stream",
     "text": [
      "Arad --> Sibiu --> Fagaras --> Bucharest --> "
     ]
    }
   ],
   "source": [
    "#######################################\n",
    "            #HOMEWORK 5\n",
    "#######################################\n",
    "#Inizializzo il dizionario con la mappa degli stati\n",
    "mappa = dict()\n",
    "mappa['Arad'] = [[('Zerind', 75), ('Sibiu', 140), ('Timisoara', 118)]]\n",
    "mappa['Zerind'] = [[('Oradea', 71), ('Arad', 75)]]\n",
    "mappa['Oradea'] = [[('Sibiu', 151), ('Zerind', 71)]]\n",
    "mappa['Sibiu'] = [[('Oradea', 151), ('Arad', 140), ('Fagaras', 99), ('Rimnicu Vilcea', 80)]]\n",
    "mappa['Fagaras'] = [[('Bucharest', 211), ('Sibiu', 99)]]\n",
    "mappa['Rimnicu Vilcea'] = [[('Sibiu', 80), ('Pitesti', 97), ('Craiova', 146)]]\n",
    "mappa['Craiova'] = [[('Dobreta', 120), ('Rimnicu Vilcea', 146), ('Pitesti', 59)]]\n",
    "mappa['Dobreta'] = [[('Craiova', 120), ('Mehadia', 75)]]\n",
    "mappa['Pitesti'] = [[('Rimnicu Vilcea', 97), ('Craiova', 59), ('Bucharest', 101)]]\n",
    "mappa['Mehadia'] = [[('Dobreta', 75), ('Lugoj', 70)]]\n",
    "mappa['Lugoj'] = [[('Timisoara', 111), ('Mehadia', 70)]]\n",
    "mappa['Timisoara'] = [[('Lugoj', 111), ('Arad', 118)]]\n",
    "mappa['Bucharest'] = [[('Giurgiu', 90), ('Fagaras', 211), ('Pitesti', 101), ('Urziceni', 85)]]\n",
    "mappa['Urziceni'] = [[('Bucharest', 85), ('Hirsova', 98), ('Vaslui', 142)]]\n",
    "#Resto della mappa non necessario \n",
    "\n",
    "#Funzione euristica h per la distanza in linea d'aria da bucharest\n",
    "h = dict()\n",
    "h['Arad'] = 366\n",
    "h['Bucharest'] = 0\n",
    "h['Craiova'] = 160\n",
    "h['Dobreta'] = 242\n",
    "h['Fagaras'] = 176\n",
    "h['Giurgiu'] = 77\n",
    "h['Hirsova'] = 151\n",
    "h['Lugoj'] = 244\n",
    "h['Mehadia'] = 241\n",
    "h['Oradea'] = 380\n",
    "h['Pitesti'] = 100\n",
    "h['Rimnicu Vilcea'] = 193\n",
    "h['Sibiu'] = 253\n",
    "h['Timisoara'] = 329\n",
    "h['Urziceni'] = 80\n",
    "h['Vaslui'] = 199\n",
    "h['Zerind'] = 374\n",
    "\n",
    "coda = []\n",
    "visitati = []\n",
    "\n",
    "#Implementazione dell'algoritmo di ricerca Greedy\n",
    "def greedy_BFS(mappa, h, nodo):\n",
    "    visitati.append(nodo)\n",
    "    coda.append(nodo)\n",
    "    nodo_scelto = None\n",
    "    while coda:\n",
    "        \n",
    "        citta_corrente = coda.pop(0)\n",
    "        print(citta_corrente, end = ' --> ')\n",
    "        \n",
    "        for i in mappa[citta_corrente]:\n",
    "            for citta, dist in i:\n",
    "                if nodo_scelto == None or h[citta] < h[nodo_scelto]:\n",
    "                    nodo_scelto = citta\n",
    "\n",
    "            if nodo_scelto not in visitati:        \n",
    "                visitati.append(nodo_scelto)\n",
    "                coda.append(nodo_scelto)\n",
    "\n",
    "greedy_BFS(mappa, h, 'Arad')\n"
   ]
  },
  {
   "cell_type": "code",
   "execution_count": 8,
   "metadata": {},
   "outputs": [
    {
     "name": "stdout",
     "output_type": "stream",
     "text": [
      "('Arad', 0) --> ('Sibiu', 140) --> ('Rimnicu Vilcea', 80) --> ('Pitesti', 97) --> ('Bucharest', 101) --> "
     ]
    }
   ],
   "source": [
    "#######################################\n",
    "            #HOMEWORK 6 \n",
    "#######################################\n",
    "\n",
    "#Algoritmo A*\n",
    "\n",
    "visitati.clear\n",
    "\n",
    "#Implementazione dell'algoritmo di ricerca A* Graph search\n",
    "def a_star(mappa, h, nodo):\n",
    "    \n",
    "    visitati.append(nodo)\n",
    "    coda.append(nodo)\n",
    "    nodo_scelto = None\n",
    "    while coda:\n",
    "        \n",
    "        citta_corrente = coda.pop(0)\n",
    "        print(citta_corrente, end = ' --> ')\n",
    "        \n",
    "        for i in mappa[citta_corrente[0]]:\n",
    "            for citta, dist in i:\n",
    "                if nodo_scelto == None or h[citta] + dist < h[nodo_scelto[0]] + nodo_scelto[1]:\n",
    "                    nodo_scelto = (citta, dist)\n",
    "\n",
    "            if nodo_scelto not in visitati:        \n",
    "                visitati.append(nodo_scelto)\n",
    "                coda.append(nodo_scelto)\n",
    "\n",
    "a_star(mappa, h, ('Arad',0))"
   ]
  }
 ],
 "metadata": {
  "kernelspec": {
   "display_name": "Python 3.11.0 64-bit",
   "language": "python",
   "name": "python3"
  },
  "language_info": {
   "codemirror_mode": {
    "name": "ipython",
    "version": 3
   },
   "file_extension": ".py",
   "mimetype": "text/x-python",
   "name": "python",
   "nbconvert_exporter": "python",
   "pygments_lexer": "ipython3",
   "version": "3.11.0"
  },
  "orig_nbformat": 4,
  "vscode": {
   "interpreter": {
    "hash": "a088e8f7dc5632d47cd2c85604f30e2b06635e6c5c65f4df2f2aaaa0ed5a2bc8"
   }
  }
 },
 "nbformat": 4,
 "nbformat_minor": 2
}
