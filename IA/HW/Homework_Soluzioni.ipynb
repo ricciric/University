{
 "cells": [
  {
   "cell_type": "code",
   "execution_count": 20,
   "metadata": {},
   "outputs": [
    {
     "name": "stdout",
     "output_type": "stream",
     "text": [
      "Arad --> Sibiu --> Fagaras --> Bucharest --> "
     ]
    }
   ],
   "source": [
    "#######################################\n",
    "            #HOMEWORK 5\n",
    "#######################################\n",
    "#Inizializzo il dizionario con la mappa degli stati\n",
    "mappa = dict()\n",
    "mappa['Arad'] = [[('Zerind', 75), ('Sibiu', 140), ('Timisoara', 118)]]\n",
    "mappa['Zerind'] = [[('Oradea', 71), ('Arad', 75)]]\n",
    "mappa['Oradea'] = [[('Sibiu', 151), ('Zerind', 71)]]\n",
    "mappa['Sibiu'] = [[('Oradea', 151), ('Arad', 140), ('Fagaras', 99), ('Rimnicu Vilcea', 80)]]\n",
    "mappa['Fagaras'] = [[('Bucharest', 211), ('Sibiu', 99)]]\n",
    "mappa['Rimnicu Vilcea'] = [[('Sibiu', 80), ('Pitesti', 97), ('Craiova', 146)]]\n",
    "mappa['Craiova'] = [[('Dobreta', 120), ('Rimnicu Vilcea', 146), ('Pitesti', 59)]]\n",
    "mappa['Dobreta'] = [[('Craiova', 120), ('Mehadia', 75)]]\n",
    "mappa['Mehadia'] = [[('Dobreta', 75), ('Lugoj', 70)]]\n",
    "mappa['Lugoj'] = [[('Timisoara', 111), ('Mehadia', 70)]]\n",
    "mappa['Timisoara'] = [[('Lugoj', 111), ('Arad', 118)]]\n",
    "mappa['Bucharest'] = [[('Giurgiu', 90), ('Fagaras', 211), ('Pitesti', 101), ('Urziceni', 85)]]\n",
    "mappa['Urziceni'] = [[('Bucharest', 85), ('Hirsova', 98), ('Vaslui', 142)]]\n",
    "#Resto della mappa non necessario \n",
    "\n",
    "#Funzione euristica h per la distanza in linea d'aria da bucharest\n",
    "h = dict()\n",
    "h['Arad'] = 366\n",
    "h['Bucharest'] = 0\n",
    "h['Craiova'] = 160\n",
    "h['Dobreta'] = 242\n",
    "h['Fagaras'] = 176\n",
    "h['Giurgiu'] = 77\n",
    "h['Hirsova'] = 151\n",
    "h['Lugoj'] = 244\n",
    "h['Mehadia'] = 241\n",
    "h['Oradea'] = 380\n",
    "h['Pitesti'] = 100\n",
    "h['Rimnicu Vilcea'] = 193\n",
    "h['Sibiu'] = 253\n",
    "h['Timisoara'] = 329\n",
    "h['Urziceni'] = 80\n",
    "h['Vaslui'] = 199\n",
    "h['Zerind'] = 374\n",
    "\n",
    "coda = []\n",
    "visitati = []\n",
    "\n",
    "#Implementazione dell'algoritmo di ricerca Greedy\n",
    "def greedy_BFS(mappa, h, nodo):\n",
    "    visitati.append(nodo)\n",
    "    coda.append(nodo)\n",
    "    nodo_scelto = None\n",
    "    while coda:\n",
    "        \n",
    "        citta_corrente = coda.pop(0)\n",
    "        print(citta_corrente, end = ' --> ')\n",
    "        \n",
    "        for i in mappa[citta_corrente]:\n",
    "            for citta, dist in i:\n",
    "                if nodo_scelto == None or h[citta] < h[nodo_scelto]:\n",
    "                    nodo_scelto = citta\n",
    "\n",
    "            if nodo_scelto not in visitati:        \n",
    "                visitati.append(nodo_scelto)\n",
    "                coda.append(nodo_scelto)\n",
    "\n",
    "greedy_BFS(mappa, h, 'Arad')\n"
   ]
  },
  {
   "cell_type": "code",
   "execution_count": 24,
   "metadata": {},
   "outputs": [
    {
     "name": "stdout",
     "output_type": "stream",
     "text": [
      "Arad --> "
     ]
    },
    {
     "ename": "KeyError",
     "evalue": "'A'",
     "output_type": "error",
     "traceback": [
      "\u001b[1;31m---------------------------------------------------------------------------\u001b[0m",
      "\u001b[1;31mKeyError\u001b[0m                                  Traceback (most recent call last)",
      "Cell \u001b[1;32mIn [24], line 26\u001b[0m\n\u001b[0;32m     23\u001b[0m                 visitati\u001b[39m.\u001b[39mappend(nodo_scelto)\n\u001b[0;32m     24\u001b[0m                 coda\u001b[39m.\u001b[39mappend(nodo_scelto)\n\u001b[1;32m---> 26\u001b[0m a_star(mappa, h, \u001b[39m'\u001b[39;49m\u001b[39mArad\u001b[39;49m\u001b[39m'\u001b[39;49m)\n",
      "Cell \u001b[1;32mIn [24], line 17\u001b[0m, in \u001b[0;36ma_star\u001b[1;34m(mappa, h, nodo)\u001b[0m\n\u001b[0;32m     14\u001b[0m citta_corrente \u001b[39m=\u001b[39m coda\u001b[39m.\u001b[39mpop(\u001b[39m0\u001b[39m)\n\u001b[0;32m     15\u001b[0m \u001b[39mprint\u001b[39m(citta_corrente, end \u001b[39m=\u001b[39m \u001b[39m'\u001b[39m\u001b[39m --> \u001b[39m\u001b[39m'\u001b[39m)\n\u001b[1;32m---> 17\u001b[0m \u001b[39mfor\u001b[39;00m i \u001b[39min\u001b[39;00m mappa[citta_corrente[\u001b[39m0\u001b[39m]]:\n\u001b[0;32m     18\u001b[0m     \u001b[39mfor\u001b[39;00m citta, dist \u001b[39min\u001b[39;00m i:\n\u001b[0;32m     19\u001b[0m         \u001b[39mif\u001b[39;00m nodo_scelto \u001b[39m==\u001b[39m \u001b[39mNone\u001b[39;00m \u001b[39mor\u001b[39;00m h[citta] \u001b[39m+\u001b[39m dist \u001b[39m<\u001b[39m h[nodo_scelto[\u001b[39m0\u001b[39m]] \u001b[39m+\u001b[39m nodo_scelto[\u001b[39m1\u001b[39m]:\n",
      "\u001b[1;31mKeyError\u001b[0m: 'A'"
     ]
    }
   ],
   "source": [
    "#######################################\n",
    "            #HOMEWORK 6 Da finire\n",
    "#######################################\n",
    "\n",
    "#Algoritmo A*\n",
    "\n",
    "#Implementazione dell'algoritmo di ricerca Greedy\n",
    "def a_star(mappa, h, nodo):\n",
    "    visitati.append(nodo)\n",
    "    coda.append(nodo)\n",
    "    nodo_scelto = None\n",
    "    while coda:\n",
    "        \n",
    "        citta_corrente = coda.pop(0)\n",
    "        print(citta_corrente, end = ' --> ')\n",
    "        \n",
    "        for i in mappa[citta_corrente[0]]:\n",
    "            for citta, dist in i:\n",
    "                if nodo_scelto == None or h[citta] + dist < h[nodo_scelto[0]] + nodo_scelto[1]:\n",
    "                    nodo_scelto = (citta, dist)\n",
    "\n",
    "            if nodo_scelto not in visitati:        \n",
    "                visitati.append(nodo_scelto)\n",
    "                coda.append(nodo_scelto)\n",
    "\n",
    "a_star(mappa, h, 'Arad')"
   ]
  }
 ],
 "metadata": {
  "kernelspec": {
   "display_name": "Python 3.10.8 64-bit",
   "language": "python",
   "name": "python3"
  },
  "language_info": {
   "codemirror_mode": {
    "name": "ipython",
    "version": 3
   },
   "file_extension": ".py",
   "mimetype": "text/x-python",
   "name": "python",
   "nbconvert_exporter": "python",
   "pygments_lexer": "ipython3",
   "version": "3.10.8"
  },
  "orig_nbformat": 4,
  "vscode": {
   "interpreter": {
    "hash": "265eb57e4aa7ae2195acf8fb7fbb1461e63a7f80b42f14e3dfa8997bd5a95ce3"
   }
  }
 },
 "nbformat": 4,
 "nbformat_minor": 2
}
