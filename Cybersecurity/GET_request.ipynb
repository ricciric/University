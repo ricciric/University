{
 "cells": [
  {
   "cell_type": "markdown",
   "metadata": {},
   "source": [
    "WEB01"
   ]
  },
  {
   "cell_type": "code",
   "execution_count": 2,
   "metadata": {},
   "outputs": [
    {
     "name": "stdout",
     "output_type": "stream",
     "text": [
      "flag{g3t7ing_4l0ng}\n"
     ]
    }
   ],
   "source": [
    "import requests\n",
    "\n",
    "print(requests.get('http://web-01.challs.olicyber.it/').text)\n"
   ]
  },
  {
   "cell_type": "markdown",
   "metadata": {},
   "source": [
    "WEB02"
   ]
  },
  {
   "cell_type": "code",
   "execution_count": 3,
   "metadata": {},
   "outputs": [
    {
     "name": "stdout",
     "output_type": "stream",
     "text": [
      "flag{wh47_i5_y0ur_qu3ry}\n"
     ]
    }
   ],
   "source": [
    "import requests\n",
    "\n",
    "par = {'id' : 'flag'}\n",
    "r = requests.get(\"http://web-02.challs.olicyber.it/server-records\", params=par)\n",
    "print(r.text)"
   ]
  },
  {
   "cell_type": "markdown",
   "metadata": {},
   "source": [
    "WEB03"
   ]
  },
  {
   "cell_type": "code",
   "execution_count": 4,
   "metadata": {},
   "outputs": [
    {
     "name": "stdout",
     "output_type": "stream",
     "text": [
      "flag{7ru57_m3_i_m_7h3_4dmin}\n"
     ]
    }
   ],
   "source": [
    "import requests\n",
    "\n",
    "head = {'X-Password' : 'admin'}\n",
    "r = requests.get('http://web-03.challs.olicyber.it/flag', headers=head)\n",
    "print(r.text)"
   ]
  },
  {
   "cell_type": "markdown",
   "metadata": {},
   "source": [
    "WEB04"
   ]
  },
  {
   "cell_type": "code",
   "execution_count": null,
   "metadata": {},
   "outputs": [],
   "source": [
    "import requests\n",
    "\n",
    "head = {'Accept' : 'application/xml'}\n",
    "r = requests.get('http://web-04.challs.olicyber.it/users', headers = head)\n",
    "print(r.text)\n"
   ]
  },
  {
   "cell_type": "markdown",
   "metadata": {},
   "source": [
    "Bright Sun"
   ]
  },
  {
   "cell_type": "code",
   "execution_count": null,
   "metadata": {},
   "outputs": [],
   "source": [
    "import requests\n",
    "\n",
    "par = {'id' : 'flag'}\n",
    "r = requests.get(\"http://www.w3.org/1999/02/22-rdf-syntax-ns\", params=par)\n",
    "print(r.text)"
   ]
  },
  {
   "cell_type": "markdown",
   "metadata": {},
   "source": [
    "**WEB05**"
   ]
  },
  {
   "cell_type": "code",
   "execution_count": 1,
   "metadata": {},
   "outputs": [
    {
     "name": "stdout",
     "output_type": "stream",
     "text": [
      "flag{v3ry_7457y_c00ki35}\n"
     ]
    }
   ],
   "source": [
    "import requests\n",
    "par = {'password' : 'admin'} # Parametro del cookie\n",
    "r = requests.get('http://web-05.challs.olicyber.it/flag', cookies=par)\n",
    "print(r.text)"
   ]
  },
  {
   "cell_type": "markdown",
   "metadata": {},
   "source": [
    "**WEB06** "
   ]
  },
  {
   "cell_type": "code",
   "execution_count": 11,
   "metadata": {},
   "outputs": [
    {
     "name": "stdout",
     "output_type": "stream",
     "text": [
      "flag{7w0_574g3_4cc3s5}\n"
     ]
    }
   ],
   "source": [
    "import requests\n",
    "# Dobbiamo salvare le informazioni ricevute dal server come cookie, utilizziamo la variabile con oggetto session\n",
    "session = requests.Session()\n",
    "session.get(\"http://web-06.challs.olicyber.it/token\")\n",
    "# Adesso abbiamo salvato il cookie nell'oggetto session, possiamo ottenere la flag dal sito\n",
    "print(session.get('http://web-06.challs.olicyber.it/flag').text)\n"
   ]
  },
  {
   "cell_type": "markdown",
   "metadata": {},
   "source": [
    "**WEB07**"
   ]
  },
  {
   "cell_type": "code",
   "execution_count": 60,
   "metadata": {},
   "outputs": [
    {
     "name": "stdout",
     "output_type": "stream",
     "text": [
      "{'Content-Length': '12', 'Content-Type': 'text/plain; charset=utf-8', 'Date': 'Wed, 25 Oct 2023 09:05:49 GMT', 'Server': 'nginx/1.21.6', 'X-Flag': 'flag{r0gu3_m374d474}'}\n"
     ]
    }
   ],
   "source": [
    "import requests\n",
    "\n",
    "# Eseguo una richiesta agli headers della pagina\n",
    "r = requests.head('http://web-07.challs.olicyber.it/')\n",
    "# La pagina mi restituisce Unauthorized, però è comunque possibile leggere gli headers della pagina\n",
    "print(r.headers)"
   ]
  },
  {
   "cell_type": "markdown",
   "metadata": {},
   "source": [
    "**WEB09**"
   ]
  },
  {
   "cell_type": "code",
   "execution_count": 62,
   "metadata": {},
   "outputs": [
    {
     "name": "stdout",
     "output_type": "stream",
     "text": [
      "{\n",
      "  \"token\": \"flag{w31c0m3_70_7h3_y34r_2000}\"\n",
      "}\n"
     ]
    }
   ],
   "source": [
    "import requests\n",
    "\n",
    "# Il formato richiesto per l'invio della risorsa è il JSON per questo come parametri va inserito json\n",
    "par = { \"username\": \"admin\", \"password\": \"admin\"}\n",
    "r = requests.post('http://web-09.challs.olicyber.it/login', json=par)\n",
    "print(r.text)"
   ]
  },
  {
   "cell_type": "markdown",
   "metadata": {},
   "source": [
    "**WEB10**"
   ]
  },
  {
   "cell_type": "code",
   "execution_count": 69,
   "metadata": {},
   "outputs": [
    {
     "name": "stdout",
     "output_type": "stream",
     "text": [
      "{'Allow': 'HEAD, OPTIONS, GET', 'Content-Length': '0', 'Content-Type': 'text/html; charset=utf-8', 'Date': 'Wed, 25 Oct 2023 09:15:32 GMT', 'Server': 'nginx/1.21.6'}\n",
      "{'Content-Length': '21', 'Content-Type': 'text/plain; charset=utf-8', 'Date': 'Wed, 25 Oct 2023 09:15:32 GMT', 'Server': 'nginx/1.21.6', 'X-Flag': 'flag{br34king_7h3_ru135}'}\n"
     ]
    }
   ],
   "source": [
    "import requests\n",
    "\n",
    "r = requests.options('http://web-10.challs.olicyber.it/')\n",
    "# Ottengo la lista dei verbi supportati dal server\n",
    "print(r.headers) \n",
    "# Provo ad utilizare un verbo non supportato dal server (put è l'analogo di get)\n",
    "r = requests.put('http://web-10.challs.olicyber.it/')\n",
    "# Guardo quindi all'interno dell'header\n",
    "print(r.headers) "
   ]
  }
 ],
 "metadata": {
  "kernelspec": {
   "display_name": "Python 3",
   "language": "python",
   "name": "python3"
  },
  "language_info": {
   "codemirror_mode": {
    "name": "ipython",
    "version": 3
   },
   "file_extension": ".py",
   "mimetype": "text/x-python",
   "name": "python",
   "nbconvert_exporter": "python",
   "pygments_lexer": "ipython3",
   "version": "3.11.0"
  },
  "vscode": {
   "interpreter": {
    "hash": "a088e8f7dc5632d47cd2c85604f30e2b06635e6c5c65f4df2f2aaaa0ed5a2bc8"
   }
  }
 },
 "nbformat": 4,
 "nbformat_minor": 2
}
