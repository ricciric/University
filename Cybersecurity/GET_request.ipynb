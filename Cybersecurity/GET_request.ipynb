{
 "cells": [
  {
   "cell_type": "markdown",
   "metadata": {},
   "source": [
    "WEB01"
   ]
  },
  {
   "cell_type": "code",
   "execution_count": 9,
   "metadata": {},
   "outputs": [
    {
     "name": "stdout",
     "output_type": "stream",
     "text": [
      "flag{g3t7ing_4l0ng}\n"
     ]
    }
   ],
   "source": [
    "import requests\n",
    "\n",
    "print(requests.get('http://web-01.challs.olicyber.it/').text)\n"
   ]
  },
  {
   "cell_type": "markdown",
   "metadata": {},
   "source": [
    "WEB02"
   ]
  },
  {
   "cell_type": "code",
   "execution_count": 1,
   "metadata": {},
   "outputs": [
    {
     "name": "stdout",
     "output_type": "stream",
     "text": [
      "flag{wh47_i5_y0ur_qu3ry}\n"
     ]
    }
   ],
   "source": [
    "import requests\n",
    "\n",
    "par = {'id' : 'flag'}\n",
    "r = requests.get(\"http://web-02.challs.olicyber.it/server-records\", params=par)\n",
    "print(r.text)"
   ]
  },
  {
   "cell_type": "markdown",
   "metadata": {},
   "source": [
    "WEB03"
   ]
  },
  {
   "cell_type": "code",
   "execution_count": 2,
   "metadata": {},
   "outputs": [
    {
     "name": "stdout",
     "output_type": "stream",
     "text": [
      "flag{7ru57_m3_i_m_7h3_4dmin}\n"
     ]
    }
   ],
   "source": [
    "import requests\n",
    "\n",
    "head = {'X-Password' : 'admin'}\n",
    "r = requests.get('http://web-03.challs.olicyber.it/flag', headers=head)\n",
    "print(r.text)"
   ]
  },
  {
   "cell_type": "markdown",
   "metadata": {},
   "source": [
    "WEB04"
   ]
  },
  {
   "cell_type": "code",
   "execution_count": 1,
   "metadata": {},
   "outputs": [
    {
     "name": "stdout",
     "output_type": "stream",
     "text": [
      "<?xml version=\"1.0\"?>\n",
      "\n",
      "<users>\n",
      "  <user comment=\"flag{54m3_7hing_diff3r3n7_7hing}\">\n",
      "    <name>admin</name>\n",
      "    <role>admin</role>\n",
      "    <registration_date>2018-06-18T15:34:55Z</registration_date>\n",
      "  </user>\n",
      "  <user>\n",
      "    <name>fruitfly</name>\n",
      "    <role>user</role>\n",
      "    <registration_date>2019-08-12T12:04:32Z</registration_date>\n",
      "  </user>\n",
      "  <user>\n",
      "    <name>jim87</name>\n",
      "    <role>user</role>\n",
      "    <registration_date>2022-01-13T20:09:43Z</registration_date>\n",
      "  </user>\n",
      "  <user comment=\"Suspicious activity\">\n",
      "    <name>anonymous05</name>\n",
      "    <role>user</role>\n",
      "    <registration_date>2022-03-09T16:01:07Z</registration_date>\n",
      "  </user>\n",
      "</users>\n",
      "\n"
     ]
    }
   ],
   "source": [
    "import requests\n",
    "\n",
    "head = {'Accept' : 'application/xml'}\n",
    "r = requests.get('http://web-04.challs.olicyber.it/users', headers = head)\n",
    "print(r.text)\n"
   ]
  },
  {
   "cell_type": "markdown",
   "metadata": {},
   "source": [
    "Bright Sun"
   ]
  },
  {
   "cell_type": "code",
   "execution_count": 1,
   "metadata": {},
   "outputs": [
    {
     "name": "stdout",
     "output_type": "stream",
     "text": [
      "@prefix rdf: <http://www.w3.org/1999/02/22-rdf-syntax-ns#> .\n",
      "@prefix rdfs: <http://www.w3.org/2000/01/rdf-schema#> .\n",
      "@prefix owl: <http://www.w3.org/2002/07/owl#> .\n",
      "@prefix dc: <http://purl.org/dc/elements/1.1/> .\n",
      "\n",
      "<http://www.w3.org/1999/02/22-rdf-syntax-ns#> a owl:Ontology ;\n",
      "\tdc:title \"The RDF Concepts Vocabulary (RDF)\" ;\n",
      "\tdc:date \"2019-12-16\" ;\n",
      "\tdc:description \"This is the RDF Schema for the RDF vocabulary terms in the RDF Namespace, defined in RDF 1.1 Concepts.\" .\n",
      "\n",
      "rdf:HTML a rdfs:Datatype ;\n",
      "\trdfs:subClassOf rdfs:Literal ;\n",
      "\trdfs:isDefinedBy <http://www.w3.org/1999/02/22-rdf-syntax-ns#> ;\n",
      "\trdfs:seeAlso <http://www.w3.org/TR/rdf11-concepts/#section-html> ;\n",
      "\trdfs:label \"HTML\" ;\n",
      "\trdfs:comment \"The datatype of RDF literals storing fragments of HTML content\" .\n",
      "\n",
      "rdf:langString a rdfs:Datatype ;\n",
      "\trdfs:subClassOf rdfs:Literal ;\n",
      "\trdfs:isDefinedBy <http://www.w3.org/1999/02/22-rdf-syntax-ns#> ;\n",
      "\trdfs:seeAlso <http://www.w3.org/TR/rdf11-concepts/#section-Graph-Literal> ;\n",
      "\trdfs:label \"langString\" ;\n",
      "\trdfs:comment \"The datatype of language-tagged string values\" .\n",
      "\n",
      "rdf:PlainLiteral a rdfs:Datatype ;\n",
      "\trdfs:isDefinedBy <http://www.w3.org/1999/02/22-rdf-syntax-ns#> ;\n",
      "\trdfs:subClassOf rdfs:Literal ;\n",
      "\trdfs:seeAlso <http://www.w3.org/TR/rdf-plain-literal/> ;\n",
      "\trdfs:label \"PlainLiteral\" ;\n",
      "\trdfs:comment \"The class of plain (i.e. untyped) literal values, as used in RIF and OWL 2\" .\n",
      "\n",
      "rdf:type a rdf:Property ;\n",
      "\trdfs:isDefinedBy <http://www.w3.org/1999/02/22-rdf-syntax-ns#> ;\n",
      "\trdfs:label \"type\" ;\n",
      "\trdfs:comment \"The subject is an instance of a class.\" ;\n",
      "\trdfs:range rdfs:Class ;\n",
      "\trdfs:domain rdfs:Resource .\n",
      "\n",
      "rdf:Property a rdfs:Class ;\n",
      "\trdfs:isDefinedBy <http://www.w3.org/1999/02/22-rdf-syntax-ns#> ;\n",
      "\trdfs:label \"Property\" ;\n",
      "\trdfs:comment \"The class of RDF properties.\" ;\n",
      "\trdfs:subClassOf rdfs:Resource .\n",
      "\n",
      "rdf:Statement a rdfs:Class ;\n",
      "\trdfs:isDefinedBy <http://www.w3.org/1999/02/22-rdf-syntax-ns#> ;\n",
      "\trdfs:label \"Statement\" ;\n",
      "\trdfs:subClassOf rdfs:Resource ;\n",
      "\trdfs:comment \"The class of RDF statements.\" .\n",
      "\n",
      "rdf:subject a rdf:Property ;\n",
      "\trdfs:isDefinedBy <http://www.w3.org/1999/02/22-rdf-syntax-ns#> ;\n",
      "\trdfs:label \"subject\" ;\n",
      "\trdfs:comment \"The subject of the subject RDF statement.\" ;\n",
      "\trdfs:domain rdf:Statement ;\n",
      "\trdfs:range rdfs:Resource .\n",
      "\n",
      "rdf:predicate a rdf:Property ;\n",
      "\trdfs:isDefinedBy <http://www.w3.org/1999/02/22-rdf-syntax-ns#> ;\n",
      "\trdfs:label \"predicate\" ;\n",
      "\trdfs:comment \"The predicate of the subject RDF statement.\" ;\n",
      "\trdfs:domain rdf:Statement ;\n",
      "\trdfs:range rdfs:Resource .\n",
      "\n",
      "rdf:object a rdf:Property ;\n",
      "\trdfs:isDefinedBy <http://www.w3.org/1999/02/22-rdf-syntax-ns#> ;\n",
      "\trdfs:label \"object\" ;\n",
      "\trdfs:comment \"The object of the subject RDF statement.\" ;\n",
      "\trdfs:domain rdf:Statement ;\n",
      "\trdfs:range rdfs:Resource .\n",
      "\n",
      "rdf:Bag a rdfs:Class ;\n",
      "\trdfs:isDefinedBy <http://www.w3.org/1999/02/22-rdf-syntax-ns#> ;\n",
      "\trdfs:label \"Bag\" ;\n",
      "\trdfs:comment \"The class of unordered containers.\" ;\n",
      "\trdfs:subClassOf rdfs:Container .\n",
      "\n",
      "rdf:Seq a rdfs:Class ;\n",
      "\trdfs:isDefinedBy <http://www.w3.org/1999/02/22-rdf-syntax-ns#> ;\n",
      "\trdfs:label \"Seq\" ;\n",
      "\trdfs:comment \"The class of ordered containers.\" ;\n",
      "\trdfs:subClassOf rdfs:Container .\n",
      "\n",
      "rdf:Alt a rdfs:Class ;\n",
      "\trdfs:isDefinedBy <http://www.w3.org/1999/02/22-rdf-syntax-ns#> ;\n",
      "\trdfs:label \"Alt\" ;\n",
      "\trdfs:comment \"The class of containers of alternatives.\" ;\n",
      "\trdfs:subClassOf rdfs:Container .\n",
      "\n",
      "rdf:value a rdf:Property ;\n",
      "\trdfs:isDefinedBy <http://www.w3.org/1999/02/22-rdf-syntax-ns#> ;\n",
      "\trdfs:label \"value\" ;\n",
      "\trdfs:comment \"Idiomatic property used for structured values.\" ;\n",
      "\trdfs:domain rdfs:Resource ;\n",
      "\trdfs:range rdfs:Resource .\n",
      "\n",
      "rdf:List a rdfs:Class ;\n",
      "\trdfs:isDefinedBy <http://www.w3.org/1999/02/22-rdf-syntax-ns#> ;\n",
      "\trdfs:label \"List\" ;\n",
      "\trdfs:comment \"The class of RDF Lists.\" ;\n",
      "\trdfs:subClassOf rdfs:Resource .\n",
      "\n",
      "rdf:nil a rdf:List ;\n",
      "\trdfs:isDefinedBy <http://www.w3.org/1999/02/22-rdf-syntax-ns#> ;\n",
      "\trdfs:label \"nil\" ;\n",
      "\trdfs:comment \"The empty list, with no items in it. If the rest of a list is nil then the list has no more items in it.\" .\n",
      "\n",
      "rdf:first a rdf:Property ;\n",
      "\trdfs:isDefinedBy <http://www.w3.org/1999/02/22-rdf-syntax-ns#> ;\n",
      "\trdfs:label \"first\" ;\n",
      "\trdfs:comment \"The first item in the subject RDF list.\" ;\n",
      "\trdfs:domain rdf:List ;\n",
      "\trdfs:range rdfs:Resource .\n",
      "\n",
      "rdf:rest a rdf:Property ;\n",
      "\trdfs:isDefinedBy <http://www.w3.org/1999/02/22-rdf-syntax-ns#> ;\n",
      "\trdfs:label \"rest\" ;\n",
      "\trdfs:comment \"The rest of the subject RDF list after the first item.\" ;\n",
      "\trdfs:domain rdf:List ;\n",
      "\trdfs:range rdf:List .\n",
      "\n",
      "rdf:XMLLiteral a rdfs:Datatype ;\n",
      "\trdfs:subClassOf rdfs:Literal ;\n",
      "\trdfs:isDefinedBy <http://www.w3.org/1999/02/22-rdf-syntax-ns#> ;\n",
      "\trdfs:label \"XMLLiteral\" ;\n",
      "\trdfs:comment \"The datatype of XML literal values.\" .\n",
      "\n",
      "rdf:JSON a rdfs:Datatype ;\n",
      "\trdfs:label \"JSON\" ;\n",
      "\trdfs:comment \"The datatype of RDF literals storing JSON content.\" ;\n",
      "\trdfs:subClassOf rdfs:Literal ;\n",
      "\trdfs:isDefinedBy <http://www.w3.org/1999/02/22-rdf-syntax-ns#> ;\n",
      "\trdfs:seeAlso <https://www.w3.org/TR/json-ld11/#the-rdf-json-datatype> .\n",
      "\n",
      "rdf:CompoundLiteral a rdfs:Class ;\n",
      "\trdfs:label \"CompoundLiteral\" ;\n",
      "\trdfs:comment \"A class representing a compound literal.\" ;\n",
      "\trdfs:subClassOf rdfs:Resource ;\n",
      "\trdfs:isDefinedBy <http://www.w3.org/1999/02/22-rdf-syntax-ns#> ;\n",
      "\trdfs:seeAlso <https://www.w3.org/TR/json-ld11/#the-rdf-compoundliteral-class-and-the-rdf-language-and-rdf-direction-properties> .\n",
      "\n",
      "rdf:language a rdf:Property ;\n",
      "\trdfs:label \"language\" ;\n",
      "\trdfs:comment \"The language component of a CompoundLiteral.\" ;\n",
      "\trdfs:domain rdf:CompoundLiteral ;\n",
      "\trdfs:isDefinedBy <http://www.w3.org/1999/02/22-rdf-syntax-ns#> ;\n",
      "\trdfs:seeAlso <https://www.w3.org/TR/json-ld11/#the-rdf-compoundliteral-class-and-the-rdf-language-and-rdf-direction-properties> .\n",
      "\n",
      "rdf:direction a rdf:Property ;\n",
      "\trdfs:label \"direction\" ;\n",
      "\trdfs:comment \"The base direction component of a CompoundLiteral.\" ;\n",
      "\trdfs:domain rdf:CompoundLiteral ;\n",
      "\trdfs:isDefinedBy <http://www.w3.org/1999/02/22-rdf-syntax-ns#> ;\n",
      "\trdfs:seeAlso <https://www.w3.org/TR/json-ld11/#the-rdf-compoundliteral-class-and-the-rdf-language-and-rdf-direction-properties> .\n",
      "\n"
     ]
    }
   ],
   "source": [
    "import requests\n",
    "\n",
    "par = {'id' : 'flag'}\n",
    "r = requests.get(\"http://www.w3.org/1999/02/22-rdf-syntax-ns\", params=par)\n",
    "print(r.text)"
   ]
  }
 ],
 "metadata": {
  "kernelspec": {
   "display_name": "Python 3",
   "language": "python",
   "name": "python3"
  },
  "language_info": {
   "codemirror_mode": {
    "name": "ipython",
    "version": 3
   },
   "file_extension": ".py",
   "mimetype": "text/x-python",
   "name": "python",
   "nbconvert_exporter": "python",
   "pygments_lexer": "ipython3",
   "version": "3.11.0"
  },
  "vscode": {
   "interpreter": {
    "hash": "a088e8f7dc5632d47cd2c85604f30e2b06635e6c5c65f4df2f2aaaa0ed5a2bc8"
   }
  }
 },
 "nbformat": 4,
 "nbformat_minor": 2
}
