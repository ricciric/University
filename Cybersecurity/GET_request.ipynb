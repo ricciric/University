{
 "cells": [
  {
   "cell_type": "markdown",
   "metadata": {},
   "source": [
    "WEB01"
   ]
  },
  {
   "cell_type": "code",
   "execution_count": 9,
   "metadata": {},
   "outputs": [
    {
     "name": "stdout",
     "output_type": "stream",
     "text": [
      "flag{g3t7ing_4l0ng}\n"
     ]
    }
   ],
   "source": [
    "import requests\n",
    "\n",
    "print(requests.get('http://web-01.challs.olicyber.it/').text)\n"
   ]
  },
  {
   "cell_type": "markdown",
   "metadata": {},
   "source": [
    "WEB02"
   ]
  },
  {
   "cell_type": "code",
   "execution_count": 1,
   "metadata": {},
   "outputs": [
    {
     "name": "stdout",
     "output_type": "stream",
     "text": [
      "flag{wh47_i5_y0ur_qu3ry}\n"
     ]
    }
   ],
   "source": [
    "import requests\n",
    "\n",
    "par = {'id' : 'flag'}\n",
    "r = requests.get(\"http://web-02.challs.olicyber.it/server-records\", params=par)\n",
    "print(r.text)"
   ]
  },
  {
   "cell_type": "markdown",
   "metadata": {},
   "source": [
    "WEB03"
   ]
  },
  {
   "cell_type": "code",
   "execution_count": 2,
   "metadata": {},
   "outputs": [
    {
     "name": "stdout",
     "output_type": "stream",
     "text": [
      "flag{7ru57_m3_i_m_7h3_4dmin}\n"
     ]
    }
   ],
   "source": [
    "import requests\n",
    "\n",
    "head = {'X-Password' : 'admin'}\n",
    "r = requests.get('http://web-03.challs.olicyber.it/flag', headers=head)\n",
    "print(r.text)"
   ]
  },
  {
   "cell_type": "markdown",
   "metadata": {},
   "source": [
    "WEB04"
   ]
  },
  {
   "cell_type": "code",
   "execution_count": 1,
   "metadata": {},
   "outputs": [
    {
     "name": "stdout",
     "output_type": "stream",
     "text": [
      "<?xml version=\"1.0\"?>\n",
      "\n",
      "<users>\n",
      "  <user comment=\"flag{54m3_7hing_diff3r3n7_7hing}\">\n",
      "    <name>admin</name>\n",
      "    <role>admin</role>\n",
      "    <registration_date>2018-06-18T15:34:55Z</registration_date>\n",
      "  </user>\n",
      "  <user>\n",
      "    <name>fruitfly</name>\n",
      "    <role>user</role>\n",
      "    <registration_date>2019-08-12T12:04:32Z</registration_date>\n",
      "  </user>\n",
      "  <user>\n",
      "    <name>jim87</name>\n",
      "    <role>user</role>\n",
      "    <registration_date>2022-01-13T20:09:43Z</registration_date>\n",
      "  </user>\n",
      "  <user comment=\"Suspicious activity\">\n",
      "    <name>anonymous05</name>\n",
      "    <role>user</role>\n",
      "    <registration_date>2022-03-09T16:01:07Z</registration_date>\n",
      "  </user>\n",
      "</users>\n",
      "\n"
     ]
    }
   ],
   "source": [
    "import requests\n",
    "\n",
    "head = {'Accept' : 'application/xml'}\n",
    "r = requests.get('http://web-04.challs.olicyber.it/users', headers = head)\n",
    "print(r.text)\n"
   ]
  },
  {
   "cell_type": "markdown",
   "metadata": {},
   "source": [
    "WEB05"
   ]
  },
  {
   "cell_type": "code",
   "execution_count": null,
   "metadata": {},
   "outputs": [],
   "source": []
  }
 ],
 "metadata": {
  "kernelspec": {
   "display_name": "Python 3",
   "language": "python",
   "name": "python3"
  },
  "language_info": {
   "codemirror_mode": {
    "name": "ipython",
    "version": 3
   },
   "file_extension": ".py",
   "mimetype": "text/x-python",
   "name": "python",
   "nbconvert_exporter": "python",
   "pygments_lexer": "ipython3",
   "version": "3.11.0"
  },
  "vscode": {
   "interpreter": {
    "hash": "a088e8f7dc5632d47cd2c85604f30e2b06635e6c5c65f4df2f2aaaa0ed5a2bc8"
   }
  }
 },
 "nbformat": 4,
 "nbformat_minor": 2
}
